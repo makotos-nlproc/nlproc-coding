{
  "nbformat": 4,
  "nbformat_minor": 0,
  "metadata": {
    "colab": {
      "name": "chap2.ipynb",
      "provenance": [],
      "authorship_tag": "ABX9TyMIsmhQzt9Q++RFXkFmgwPP"
    },
    "kernelspec": {
      "name": "python3",
      "display_name": "Python 3"
    }
  },
  "cells": [
    {
      "cell_type": "code",
      "metadata": {
        "id": "vPPQ4STKgSIp",
        "colab_type": "code",
        "colab": {
          "base_uri": "https://localhost:8080/",
          "height": 53
        },
        "outputId": "c705644b-8748-4b1f-f3f6-66da2baa22cd"
      },
      "source": [
        "# p19\n",
        "num = 10; string = \"Hello World!\"\n",
        "print(f\"num={num}, type(num)={type(num)}\")\n",
        "print(f\"string={string}, type(string)={type(string)}\")"
      ],
      "execution_count": 1,
      "outputs": [
        {
          "output_type": "stream",
          "text": [
            "num=10, type(num)=<class 'int'>\n",
            "string=Hello World!, type(string)=<class 'str'>\n"
          ],
          "name": "stdout"
        }
      ]
    }
  ]
}