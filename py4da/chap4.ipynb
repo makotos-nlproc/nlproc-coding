{
  "nbformat": 4,
  "nbformat_minor": 0,
  "metadata": {
    "colab": {
      "name": "chap4.ipynb",
      "provenance": [],
      "authorship_tag": "ABX9TyP3BJS/eCTypAUmAxnqxSTW"
    },
    "kernelspec": {
      "name": "python3",
      "display_name": "Python 3"
    }
  },
  "cells": [
    {
      "cell_type": "code",
      "metadata": {
        "id": "dAPpLchPsvur",
        "colab_type": "code",
        "colab": {}
      },
      "source": [
        "# 94\n",
        "import numpy as np\n",
        "my_arr = np.arrange(1000000)\n",
        "my_list = list(range(1000000))"
      ],
      "execution_count": null,
      "outputs": []
    }
  ]
}