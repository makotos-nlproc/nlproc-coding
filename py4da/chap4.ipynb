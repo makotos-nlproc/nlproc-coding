{
  "nbformat": 4,
  "nbformat_minor": 0,
  "metadata": {
    "colab": {
      "name": "chap4.ipynb",
      "provenance": [],
      "authorship_tag": "ABX9TyMVa88FQD2UkocoyvTiy7ma"
    },
    "kernelspec": {
      "name": "python3",
      "display_name": "Python 3"
    }
  },
  "cells": [
    {
      "cell_type": "code",
      "metadata": {
        "id": "dAPpLchPsvur",
        "colab_type": "code",
        "colab": {}
      },
      "source": [
        "# 93"
      ],
      "execution_count": null,
      "outputs": []
    }
  ]
}